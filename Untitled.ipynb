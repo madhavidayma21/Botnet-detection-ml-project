{
 "cells": [
  {
   "cell_type": "code",
   "execution_count": 3,
   "id": "0f50be40-b703-4004-ab81-6bab62af9445",
   "metadata": {
    "scrolled": true
   },
   "outputs": [
    {
     "name": "stdout",
     "output_type": "stream",
     "text": [
      "success\n"
     ]
    }
   ],
   "source": [
    "import pandas as pd\n",
    "import numpy as np\n",
    "from sklearn.model_selection import train_test_split\n",
    "from sklearn.ensemble import RandomForestClassifier\n",
    "from sklearn.metrics import classification_report, confusion_matrix\n",
    "print(\"success\")\n"
   ]
  },
  {
   "cell_type": "code",
   "execution_count": 4,
   "id": "d6e382e7-a144-46fa-b1c8-a79c0b73921c",
   "metadata": {},
   "outputs": [
    {
     "name": "stdout",
     "output_type": "stream",
     "text": [
      "Shape: (2824636, 1)\n"
     ]
    },
    {
     "data": {
      "text/html": [
       "<div>\n",
       "<style scoped>\n",
       "    .dataframe tbody tr th:only-of-type {\n",
       "        vertical-align: middle;\n",
       "    }\n",
       "\n",
       "    .dataframe tbody tr th {\n",
       "        vertical-align: top;\n",
       "    }\n",
       "\n",
       "    .dataframe thead th {\n",
       "        text-align: right;\n",
       "    }\n",
       "</style>\n",
       "<table border=\"1\" class=\"dataframe\">\n",
       "  <thead>\n",
       "    <tr style=\"text-align: right;\">\n",
       "      <th></th>\n",
       "      <th>SrcAddr,DstAddr,Proto,Sport,Dport,State,sTos,dTos,SrcWin,DstWin,sHops,dHops,StartTime,LastTime,sTtl,dTtl,TcpRtt,SynAck,AckDat,SrcPkts,DstPkts,SrcBytes,DstBytes,SAppBytes,DAppBytes,Dur,TotPkts,TotBytes,TotAppByte,Rate,SrcRate,DstRate,Label</th>\n",
       "    </tr>\n",
       "  </thead>\n",
       "  <tbody>\n",
       "    <tr>\n",
       "      <th>0</th>\n",
       "      <td>94.44.127.113,147.32.84.59,tcp,1577,6881,RST,0...</td>\n",
       "    </tr>\n",
       "    <tr>\n",
       "      <th>1</th>\n",
       "      <td>94.44.127.113,147.32.84.59,tcp,1577,6881,RST,0...</td>\n",
       "    </tr>\n",
       "    <tr>\n",
       "      <th>2</th>\n",
       "      <td>147.32.86.89,77.75.73.33,tcp,4768,80,RST,0,0,6...</td>\n",
       "    </tr>\n",
       "    <tr>\n",
       "      <th>3</th>\n",
       "      <td>147.32.86.89,77.75.73.33,tcp,4788,80,RST,0,0,6...</td>\n",
       "    </tr>\n",
       "    <tr>\n",
       "      <th>4</th>\n",
       "      <td>147.32.86.89,77.75.73.33,tcp,4850,80,RST,0,0,6...</td>\n",
       "    </tr>\n",
       "  </tbody>\n",
       "</table>\n",
       "</div>"
      ],
      "text/plain": [
       "  SrcAddr,DstAddr,Proto,Sport,Dport,State,sTos,dTos,SrcWin,DstWin,sHops,dHops,StartTime,LastTime,sTtl,dTtl,TcpRtt,SynAck,AckDat,SrcPkts,DstPkts,SrcBytes,DstBytes,SAppBytes,DAppBytes,Dur,TotPkts,TotBytes,TotAppByte,Rate,SrcRate,DstRate,Label\n",
       "0  94.44.127.113,147.32.84.59,tcp,1577,6881,RST,0...                                                                                                                                                                                            \n",
       "1  94.44.127.113,147.32.84.59,tcp,1577,6881,RST,0...                                                                                                                                                                                            \n",
       "2  147.32.86.89,77.75.73.33,tcp,4768,80,RST,0,0,6...                                                                                                                                                                                            \n",
       "3  147.32.86.89,77.75.73.33,tcp,4788,80,RST,0,0,6...                                                                                                                                                                                            \n",
       "4  147.32.86.89,77.75.73.33,tcp,4850,80,RST,0,0,6...                                                                                                                                                                                            "
      ]
     },
     "execution_count": 4,
     "metadata": {},
     "output_type": "execute_result"
    }
   ],
   "source": [
    "df = pd.read_csv('data/ctu_scenario42.csv', sep='\\t')\n",
    "print(\"Shape:\", df.shape)\n",
    "df.head()\n"
   ]
  },
  {
   "cell_type": "code",
   "execution_count": 9,
   "id": "ca084852-8184-4f3a-9209-decb9a527057",
   "metadata": {},
   "outputs": [
    {
     "name": "stdout",
     "output_type": "stream",
     "text": [
      "✅ Columns: ['SrcAddr', 'DstAddr', 'Proto', 'Sport', 'Dport', 'State', 'sTos', 'dTos', 'SrcWin', 'DstWin', 'sHops', 'dHops', 'StartTime', 'LastTime', 'sTtl', 'dTtl', 'TcpRtt', 'SynAck', 'AckDat', 'SrcPkts', 'DstPkts', 'SrcBytes', 'DstBytes', 'SAppBytes', 'DAppBytes', 'Dur', 'TotPkts', 'TotBytes', 'TotAppByte', 'Rate', 'SrcRate', 'DstRate', 'Label']\n",
      "✅ Unique labels: ['flow=Background-Established-cmpgw-CVUT' 'flow=Background-TCP-Attempt'\n",
      " 'flow=Background-TCP-Established' 'flow=Background-Attempt-cmpgw-CVUT'\n",
      " 'flow=To-Background-CVUT-Proxy' 'flow=Background-UDP-Established'\n",
      " 'flow=Background' 'flow=From-Background-CVUT-Proxy'\n",
      " 'flow=To-Background-UDP-CVUT-DNS-Server' 'flow=Background-UDP-Attempt'\n",
      " 'flow=From-Normal-V42-UDP-CVUT-DNS-Server'\n",
      " 'flow=Background-UDP-NTP-Established-1'\n",
      " 'flow=To-Background-CVUT-WebServer' 'flow=Background-google-analytics3'\n",
      " 'flow=Background-google-analytics2' 'flow=Background-google-analytics6'\n",
      " 'flow=From-Normal-V42-Jist' 'flow=Background-google-webmail'\n",
      " 'flow=Background-google-analytics12' 'flow=Background-google-analytics1'\n",
      " 'flow=Background-google-analytics13' 'flow=Background-google-analytics14'\n",
      " 'flow=To-Background-Jist' 'flow=Background-ajax.google'\n",
      " 'flow=From-Normal-V42-Grill' 'flow=Background-google-analytics9'\n",
      " 'flow=Background-google-analytics11' 'flow=Background-google-pop'\n",
      " 'flow=From-Normal-V42-Stribrek' 'flow=To-Normal-V42-UDP-NTP-server'\n",
      " 'flow=Background-google-analytics16' 'flow=Background-google-analytics4'\n",
      " 'flow=To-Background-Stribrek' 'flow=Background-google-analytics10'\n",
      " 'flow=Background-google-analytics5' 'flow=Background-google-analytics15'\n",
      " 'flow=To-Background-Grill' 'flow=From-Normal-V42-CVUT-WebServer'\n",
      " 'flow=To-Background-MatLab-Server' 'flow=Background-google-analytics8'\n",
      " 'flow=Background-google-analytics7' 'flow=Background-www.fel.cvut.cz'\n",
      " 'flow=Normal-V42-HTTP-windowsupdate' 'flow=From-Normal-V42-MatLab-Server'\n",
      " 'flow=From-Botnet-V42-UDP-DNS'\n",
      " 'flow=From-Botnet-V42-TCP-HTTP-Google-Net-Established-6'\n",
      " 'flow=From-Botnet-V42-TCP-Established'\n",
      " 'flow=From-Botnet-V42-TCP-Established-HTTP-Binary-Download-1'\n",
      " 'flow=From-Botnet-V42-TCP-Established-HTTP-Binary-Download-Custom-Port-7'\n",
      " 'flow=From-Botnet-V42-TCP-Established-HTTP-Binary-Download-3'\n",
      " 'flow=From-Botnet-V42-TCP-CC6-Plain-HTTP-Encrypted-Data'\n",
      " 'flow=From-Botnet-V42-TCP-Established-HTTP-Binary-Download-Custom-Port-4'\n",
      " 'flow=From-Botnet-V42-TCP-Established-HTTP-Ad-63'\n",
      " 'flow=From-Botnet-V42-TCP-Established-HTTP-Binary-Download-9'\n",
      " 'flow=From-Botnet-V42-TCP-WEB-Established'\n",
      " 'flow=From-Botnet-V42-TCP-Attempt'\n",
      " 'flow=From-Botnet-V42-TCP-CC54-Custom-Encryption'\n",
      " 'flow=From-Botnet-V42-TCP-Established-HTTP-Ad-64'\n",
      " 'flow=From-Botnet-V42-TCP-CC53-HTTP-Not-Encrypted'\n",
      " 'flow=From-Botnet-V42-TCP-Attempt-SPAM'\n",
      " 'flow=From-Botnet-V42-TCP-CC1-HTTP-Not-Encrypted'\n",
      " 'flow=From-Botnet-V42-TCP-Not-Encrypted-SMTP-Private-Proxy-1'\n",
      " 'flow=From-Botnet-V42-TCP-Established-HTTP-Ad-40'\n",
      " 'flow=From-Botnet-V42-UDP-Established'\n",
      " 'flow=From-Botnet-V42-TCP-CC16-HTTP-Not-Encrypted'\n",
      " 'flow=From-Botnet-V42-TCP-Established-HTTP-Ad-15'\n",
      " 'flow=From-Botnet-V42-TCP-Established-HTTP-Ad-44'\n",
      " 'flow=From-Botnet-V42-TCP-Established-HTTP-Ad-16'\n",
      " 'flow=From-Botnet-V42-TCP-Established-HTTP-Adobe-4'\n",
      " 'flow=From-Botnet-V42-TCP-Established-HTTP-Ad-18'\n",
      " 'flow=From-Botnet-V42-TCP-Established-HTTP-Ad-20'\n",
      " 'flow=From-Botnet-V42-TCP-Established-HTTP-Ad-37'\n",
      " 'flow=From-Botnet-V42-TCP-Established-HTTP-Ad-59'\n",
      " 'flow=From-Botnet-V42-TCP-Established-HTTP-Ad-25'\n",
      " 'flow=From-Botnet-V42-TCP-Established-SPAM'\n",
      " 'flow=From-Botnet-V42-TCP-Established-HTTP-Ad-1'\n",
      " 'flow=From-Botnet-V42-TCP-Established-HTTP-Ad-yieldmanager-9'\n",
      " 'flow=From-Botnet-V42-TCP-Established-HTTP-Binary-Download-Custom-Port-5'\n",
      " 'flow=From-Botnet-V42-TCP-HTTP-Not-Encrypted-Down-2'\n",
      " 'flow=From-Botnet-V42-TCP-CC55-Custom-Encryption'\n",
      " 'flow=From-Botnet-V42-TCP-WEB-Established-SSL'\n",
      " 'flow=From-Botnet-V42-TCP-Established-HTTP-Ad-12'\n",
      " 'flow=From-Botnet-V42-TCP-Established-Custom-Encryption-3'\n",
      " 'flow=From-Botnet-V42-TCP-Established-Custom-Encryption-2'\n",
      " 'flow=From-Botnet-V42-TCP-Established-HTTP-Ad-21'\n",
      " 'flow=From-Botnet-V42-TCP-Established-HTTP-Ad-55'\n",
      " 'flow=From-Botnet-V42-TCP-Established-HTTP-Ad-5'\n",
      " 'flow=From-Botnet-V42-TCP-Established-HTTP-Ad-53'\n",
      " 'flow=From-Botnet-V42-TCP-Established-SSL-To-Microsoft-4'\n",
      " 'flow=From-Botnet-V42-TCP-Established-HTTP-Ad-47'\n",
      " 'flow=From-Botnet-V42-TCP-Established-HTTP-Ad-30'\n",
      " 'flow=From-Botnet-V42-TCP-Established-HTTP-Ad-10'\n",
      " 'flow=From-Botnet-V42-TCP-Established-HTTP-Ad-6'\n",
      " 'flow=From-Botnet-V42-TCP-Established-HTTP-Ad-51'\n",
      " 'flow=From-Botnet-V42-TCP-Established-HTTP-Ad-32'\n",
      " 'flow=From-Botnet-V42-TCP-Established-HTTP-Ad-3'\n",
      " 'flow=From-Botnet-V42-TCP-Established-HTTP-Ad-57'\n",
      " 'flow=From-Botnet-V42-TCP-Established-HTTP-Ad-60'\n",
      " 'flow=From-Botnet-V42-TCP-Established-HTTP-Ad-41'\n",
      " 'flow=From-Botnet-V42-TCP-Established-HTTP-Ad-61'\n",
      " 'flow=From-Botnet-V42-ICMP'\n",
      " 'flow=From-Botnet-V42-TCP-Established-HTTP-Ad-48'\n",
      " 'flow=From-Botnet-V42-TCP-Established-HTTP-Ad-28'\n",
      " 'flow=From-Botnet-V42-TCP-Established-HTTP-Ad-42'\n",
      " 'flow=From-Botnet-V42-TCP-Established-HTTP-Ad-50'\n",
      " 'flow=From-Botnet-V42-TCP-Established-HTTP-Ad-7'\n",
      " 'flow=From-Botnet-V42-TCP-Established-HTTP-Ad-33'\n",
      " 'flow=From-Botnet-V42-TCP-Established-HTTP-Ad-45'\n",
      " 'flow=From-Botnet-V42-UDP-Attempt-DNS'\n",
      " 'flow=From-Botnet-V42-TCP-Established-HTTP-Ad-52'\n",
      " 'flow=From-Botnet-V42-TCP-Established-HTTP-Ad-49'\n",
      " 'flow=From-Botnet-V42-TCP-Established-HTTP-Ad-34'\n",
      " 'flow=Background-CS-Host-CVUT']\n"
     ]
    }
   ],
   "source": [
    "import pandas as pd\n",
    "\n",
    "# Read using comma separator, not tab\n",
    "df = pd.read_csv('data/ctu_scenario42.csv', sep=',', low_memory=False)\n",
    "\n",
    "# Strip whitespaces from column names\n",
    "df.columns = df.columns.str.strip()\n",
    "\n",
    "# Check the actual column names now\n",
    "print(\"✅ Columns:\", df.columns.tolist())\n",
    "\n",
    "# Now this should work\n",
    "print(\"✅ Unique labels:\", df['Label'].unique())\n"
   ]
  },
  {
   "cell_type": "code",
   "execution_count": 12,
   "id": "abbb6949-b0e8-496c-b486-ec6c33fbdf92",
   "metadata": {},
   "outputs": [
    {
     "name": "stdout",
     "output_type": "stream",
     "text": [
      "🧮 Label counts:\n",
      " Label\n",
      "0    2824636\n",
      "Name: count, dtype: int64\n"
     ]
    }
   ],
   "source": [
    "# Step 3.1: Clean column names again just in case\n",
    "df.columns = df.columns.str.strip()\n",
    "\n",
    "# Step 3.2: Convert 'Label' to binary (Botnet = 1, Normal/Background = 0)\n",
    "df['Label'] = df['Label'].apply(lambda x: 1 if 'from-botnet' in str(x).lower() else 0)\n",
    "\n",
    "# Step 3.3: Check distribution of classes\n",
    "print(\"🧮 Label counts:\\n\", df['Label'].value_counts())\n",
    "\n"
   ]
  },
  {
   "cell_type": "code",
   "execution_count": 14,
   "id": "7a83295a-9c24-48f6-9b38-c7b2cd370f20",
   "metadata": {},
   "outputs": [],
   "source": [
    "# Drop irrelevant columns (IPs, times, etc.)\n",
    "df = df.drop(['StartTime', 'LastTime', 'SrcAddr', 'DstAddr', 'Proto'], axis=1, errors='ignore')\n",
    "\n",
    "# Separate features and target\n",
    "X = df.drop('Label', axis=1)\n",
    "y = df['Label']\n",
    "\n",
    "# Convert to numeric + fill NAs\n",
    "X = X.apply(pd.to_numeric, errors='coerce').fillna(0)\n"
   ]
  },
  {
   "cell_type": "code",
   "execution_count": 15,
   "id": "3734290b-baf8-4d1c-b1e1-478e89dbbc5c",
   "metadata": {},
   "outputs": [
    {
     "name": "stdout",
     "output_type": "stream",
     "text": [
      "✅ Train size: (2259708, 27)\n",
      "✅ Test size: (564928, 27)\n"
     ]
    },
    {
     "name": "stderr",
     "output_type": "stream",
     "text": [
      "C:\\Users\\Shree\\anaconda3\\Lib\\site-packages\\sklearn\\metrics\\_classification.py:407: UserWarning: A single label was found in 'y_true' and 'y_pred'. For the confusion matrix to have the correct shape, use the 'labels' parameter to pass all known labels.\n",
      "  warnings.warn(\n"
     ]
    },
    {
     "name": "stdout",
     "output_type": "stream",
     "text": [
      "\n",
      "📊 Confusion Matrix:\n",
      " [[564928]]\n",
      "\n",
      "📋 Classification Report:\n",
      "               precision    recall  f1-score   support\n",
      "\n",
      "           0       1.00      1.00      1.00    564928\n",
      "\n",
      "    accuracy                           1.00    564928\n",
      "   macro avg       1.00      1.00      1.00    564928\n",
      "weighted avg       1.00      1.00      1.00    564928\n",
      "\n"
     ]
    }
   ],
   "source": [
    "from sklearn.model_selection import train_test_split\n",
    "from sklearn.ensemble import RandomForestClassifier\n",
    "from sklearn.metrics import confusion_matrix, classification_report\n",
    "\n",
    "# Split the dataset into training and testing sets (80-20)\n",
    "X_train, X_test, y_train, y_test = train_test_split(\n",
    "    X, y, test_size=0.2, random_state=42)\n",
    "\n",
    "print(\"✅ Train size:\", X_train.shape)\n",
    "print(\"✅ Test size:\", X_test.shape)\n",
    "\n",
    "# Train the Random Forest model\n",
    "model = RandomForestClassifier(n_estimators=100, random_state=42)\n",
    "model.fit(X_train, y_train)\n",
    "\n",
    "# Predict on test set\n",
    "y_pred = model.predict(X_test)\n",
    "\n",
    "# Evaluation results\n",
    "print(\"\\n📊 Confusion Matrix:\\n\", confusion_matrix(y_test, y_pred))\n",
    "print(\"\\n📋 Classification Report:\\n\", classification_report(y_test, y_pred))\n"
   ]
  },
  {
   "cell_type": "code",
   "execution_count": 18,
   "id": "336ceb67-2e19-4922-8c12-51acc0523673",
   "metadata": {},
   "outputs": [
    {
     "name": "stdout",
     "output_type": "stream",
     "text": [
      "Label counts:\n",
      " Label\n",
      "0    2824636\n",
      "Name: count, dtype: int64\n"
     ]
    }
   ],
   "source": [
    "print(\"Label counts:\\n\", y.value_counts())\n",
    "\n",
    "\n"
   ]
  },
  {
   "cell_type": "code",
   "execution_count": 19,
   "id": "9aa06860-1669-4450-9749-9571be16d21c",
   "metadata": {},
   "outputs": [
    {
     "data": {
      "text/plain": [
       "array([0])"
      ]
     },
     "execution_count": 19,
     "metadata": {},
     "output_type": "execute_result"
    }
   ],
   "source": [
    "df['Label'].unique()[:20]\n",
    "\n"
   ]
  },
  {
   "cell_type": "code",
   "execution_count": 22,
   "id": "e5dade27-5853-450f-a2c0-218d9c0c4507",
   "metadata": {},
   "outputs": [],
   "source": [
    "# Reload the dataset to reset 'Label' column to original values\n",
    "df = pd.read_csv('data/ctu_scenario42.csv', sep=',', low_memory=False)\n"
   ]
  },
  {
   "cell_type": "code",
   "execution_count": 23,
   "id": "6b5638cd-1b81-40b8-b005-e4f77f7d1a94",
   "metadata": {},
   "outputs": [
    {
     "data": {
      "text/plain": [
       "array(['flow=Background-Established-cmpgw-CVUT',\n",
       "       'flow=Background-TCP-Attempt', 'flow=Background-TCP-Established',\n",
       "       'flow=Background-Attempt-cmpgw-CVUT',\n",
       "       'flow=To-Background-CVUT-Proxy', 'flow=Background-UDP-Established',\n",
       "       'flow=Background', 'flow=From-Background-CVUT-Proxy',\n",
       "       'flow=To-Background-UDP-CVUT-DNS-Server',\n",
       "       'flow=Background-UDP-Attempt',\n",
       "       'flow=From-Normal-V42-UDP-CVUT-DNS-Server',\n",
       "       'flow=Background-UDP-NTP-Established-1',\n",
       "       'flow=To-Background-CVUT-WebServer',\n",
       "       'flow=Background-google-analytics3',\n",
       "       'flow=Background-google-analytics2',\n",
       "       'flow=Background-google-analytics6', 'flow=From-Normal-V42-Jist',\n",
       "       'flow=Background-google-webmail',\n",
       "       'flow=Background-google-analytics12',\n",
       "       'flow=Background-google-analytics1'], dtype=object)"
      ]
     },
     "execution_count": 23,
     "metadata": {},
     "output_type": "execute_result"
    }
   ],
   "source": [
    "df.columns = df.columns.str.strip()\n",
    "df['Label'].unique()[:20]  # Preview original labels\n"
   ]
  },
  {
   "cell_type": "code",
   "execution_count": 24,
   "id": "b6f01077-c2b6-4649-9fdb-c3e42a802d6c",
   "metadata": {},
   "outputs": [
    {
     "name": "stdout",
     "output_type": "stream",
     "text": [
      "['Background-Established-cmpgw-CVUT' 'Background-TCP-Attempt'\n",
      " 'Background-TCP-Established' 'Background-Attempt-cmpgw-CVUT'\n",
      " 'To-Background-CVUT-Proxy' 'Background-UDP-Established' 'Background'\n",
      " 'From-Background-CVUT-Proxy' 'To-Background-UDP-CVUT-DNS-Server'\n",
      " 'Background-UDP-Attempt']\n"
     ]
    }
   ],
   "source": [
    "df['Label'] = df['Label'].str.replace('flow=', '', case=False)\n",
    "print(df['Label'].unique()[:10])\n"
   ]
  },
  {
   "cell_type": "code",
   "execution_count": 25,
   "id": "daca63a5-85c1-4296-9a8d-7fd09de3d0c7",
   "metadata": {},
   "outputs": [
    {
     "name": "stdout",
     "output_type": "stream",
     "text": [
      "Label\n",
      "0    2783675\n",
      "1      40961\n",
      "Name: count, dtype: int64\n"
     ]
    }
   ],
   "source": [
    "df['Label'] = df['Label'].apply(lambda x: 1 if 'from-botnet' in str(x).lower() else 0)\n",
    "print(df['Label'].value_counts())\n"
   ]
  },
  {
   "cell_type": "code",
   "execution_count": 26,
   "id": "510d1e3e-1e98-4916-83c7-44b55e7995c5",
   "metadata": {},
   "outputs": [],
   "source": [
    "# Drop irrelevant columns\n",
    "df = df.drop(['StartTime', 'LastTime', 'SrcAddr', 'DstAddr', 'Proto'], axis=1, errors='ignore')\n",
    "\n",
    "# Split features/labels\n",
    "X = df.drop('Label', axis=1)\n",
    "y = df['Label']\n",
    "\n",
    "# Convert and clean features\n",
    "X = X.apply(pd.to_numeric, errors='coerce').fillna(0)\n"
   ]
  },
  {
   "cell_type": "code",
   "execution_count": 27,
   "id": "64eb4555-0f88-44af-a6b1-87a081f14eab",
   "metadata": {},
   "outputs": [
    {
     "name": "stdout",
     "output_type": "stream",
     "text": [
      "📊 Confusion Matrix:\n",
      " [[556735      1]\n",
      " [    24   8168]]\n",
      "\n",
      "📋 Classification Report:\n",
      "               precision    recall  f1-score   support\n",
      "\n",
      "           0       1.00      1.00      1.00    556736\n",
      "           1       1.00      1.00      1.00      8192\n",
      "\n",
      "    accuracy                           1.00    564928\n",
      "   macro avg       1.00      1.00      1.00    564928\n",
      "weighted avg       1.00      1.00      1.00    564928\n",
      "\n"
     ]
    }
   ],
   "source": [
    "from sklearn.model_selection import train_test_split\n",
    "from sklearn.ensemble import RandomForestClassifier\n",
    "from sklearn.metrics import confusion_matrix, classification_report\n",
    "\n",
    "# Drop irrelevant columns\n",
    "df = df.drop(['StartTime', 'LastTime', 'SrcAddr', 'DstAddr', 'Proto'], axis=1, errors='ignore')\n",
    "\n",
    "# Feature-label split\n",
    "X = df.drop('Label', axis=1)\n",
    "y = df['Label']\n",
    "\n",
    "# Ensure features are numeric\n",
    "X = X.apply(pd.to_numeric, errors='coerce').fillna(0)\n",
    "\n",
    "# Train-test split (80% train, 20% test)\n",
    "X_train, X_test, y_train, y_test = train_test_split(\n",
    "    X, y, test_size=0.2, random_state=42, stratify=y\n",
    ")\n",
    "\n",
    "# Train model\n",
    "model = RandomForestClassifier(n_estimators=100, random_state=42)\n",
    "model.fit(X_train, y_train)\n",
    "\n",
    "# Predict\n",
    "y_pred = model.predict(X_test)\n",
    "\n",
    "# Evaluation\n",
    "print(\"📊 Confusion Matrix:\\n\", confusion_matrix(y_test, y_pred))\n",
    "print(\"\\n📋 Classification Report:\\n\", classification_report(y_test, y_pred))\n"
   ]
  },
  {
   "cell_type": "code",
   "execution_count": null,
   "id": "6bd62620-a9be-4fb0-bd49-96c50e6536bc",
   "metadata": {},
   "outputs": [],
   "source": []
  },
  {
   "cell_type": "code",
   "execution_count": null,
   "id": "2fb06661-40e4-4fca-a25f-742d5bfbbed8",
   "metadata": {},
   "outputs": [],
   "source": []
  }
 ],
 "metadata": {
  "kernelspec": {
   "display_name": "Python [conda env:base] *",
   "language": "python",
   "name": "conda-base-py"
  },
  "language_info": {
   "codemirror_mode": {
    "name": "ipython",
    "version": 3
   },
   "file_extension": ".py",
   "mimetype": "text/x-python",
   "name": "python",
   "nbconvert_exporter": "python",
   "pygments_lexer": "ipython3",
   "version": "3.13.5"
  }
 },
 "nbformat": 4,
 "nbformat_minor": 5
}
